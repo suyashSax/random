{
 "cells": [
  {
   "cell_type": "code",
   "execution_count": 5,
   "metadata": {
    "collapsed": true
   },
   "outputs": [],
   "source": [
    "from datetime import datetime\n",
    "import pandas as pd"
   ]
  },
  {
   "cell_type": "code",
   "execution_count": 6,
   "metadata": {
    "collapsed": false
   },
   "outputs": [],
   "source": [
    "with open('./chat.txt') as f:\n",
    "    content = f.readlines()\n",
    "# you may also want to remove whitespace characters like `\\n` at the end of each line\n",
    "content = [x.strip() for x in content] "
   ]
  },
  {
   "cell_type": "code",
   "execution_count": 8,
   "metadata": {
    "collapsed": false
   },
   "outputs": [
    {
     "data": {
      "text/plain": [
       "['[8/3/16, 10:58:34 AM] Akshay: Tomorrow morning?',\n",
       " '[8/3/16, 10:58:57 AM] Suyash: Shall Sunil also be called?',\n",
       " '[8/3/16, 10:59:05 AM] Akshay: Ok',\n",
       " '[8/3/16, 10:59:15 AM] Suyash: Wait ask Udit',\n",
       " '[8/3/16, 10:59:27 AM] Suyash: Depends on how much space as well',\n",
       " '[8/3/16, 10:59:39 AM] Akshay: Yes udit pls give permission',\n",
       " '[8/3/16, 10:59:56 AM] Akshay: Also, rahul, most of us live closer to udit... So it may be better if you come here',\n",
       " '[8/3/16, 11:10:43 AM] Rahul: Ok',\n",
       " '[8/3/16, 11:11:03 AM] Akshay: Ok now let udit respond',\n",
       " '[8/3/16, 11:23:51 AM] Udit: Hey']"
      ]
     },
     "execution_count": 8,
     "metadata": {},
     "output_type": "execute_result"
    }
   ],
   "source": [
    "content[:10]"
   ]
  },
  {
   "cell_type": "code",
   "execution_count": 9,
   "metadata": {
    "collapsed": false
   },
   "outputs": [],
   "source": [
    "dateStrings = []\n",
    "dates = []\n",
    "names = []\n",
    "for line in content:\n",
    "    if len(line) == 0 or line[0] != '[':\n",
    "        continue\n",
    "    date = line.split(',')[0][1:]\n",
    "    date = date.split('/')[0] + '/' + date.split('/')[1] + '/20' + date[-2:]\n",
    "    dateStrings.append(date)\n",
    "    dates.append(datetime.strptime(date, '%m/%d/%Y'))\n",
    "    names.append((line.split(':')[2]).split(' ')[2])"
   ]
  },
  {
   "cell_type": "code",
   "execution_count": 10,
   "metadata": {
    "collapsed": false
   },
   "outputs": [
    {
     "data": {
      "text/html": [
       "<div>\n",
       "<style>\n",
       "    .dataframe thead tr:only-child th {\n",
       "        text-align: right;\n",
       "    }\n",
       "\n",
       "    .dataframe thead th {\n",
       "        text-align: left;\n",
       "    }\n",
       "\n",
       "    .dataframe tbody tr th {\n",
       "        vertical-align: top;\n",
       "    }\n",
       "</style>\n",
       "<table border=\"1\" class=\"dataframe\">\n",
       "  <thead>\n",
       "    <tr style=\"text-align: right;\">\n",
       "      <th></th>\n",
       "      <th>Date</th>\n",
       "      <th>Sender</th>\n",
       "    </tr>\n",
       "  </thead>\n",
       "  <tbody>\n",
       "    <tr>\n",
       "      <th>0</th>\n",
       "      <td>8/3/2016</td>\n",
       "      <td>Akshay</td>\n",
       "    </tr>\n",
       "    <tr>\n",
       "      <th>1</th>\n",
       "      <td>8/3/2016</td>\n",
       "      <td>Suyash</td>\n",
       "    </tr>\n",
       "    <tr>\n",
       "      <th>2</th>\n",
       "      <td>8/3/2016</td>\n",
       "      <td>Akshay</td>\n",
       "    </tr>\n",
       "    <tr>\n",
       "      <th>3</th>\n",
       "      <td>8/3/2016</td>\n",
       "      <td>Suyash</td>\n",
       "    </tr>\n",
       "    <tr>\n",
       "      <th>4</th>\n",
       "      <td>8/3/2016</td>\n",
       "      <td>Suyash</td>\n",
       "    </tr>\n",
       "  </tbody>\n",
       "</table>\n",
       "</div>"
      ],
      "text/plain": [
       "       Date  Sender\n",
       "0  8/3/2016  Akshay\n",
       "1  8/3/2016  Suyash\n",
       "2  8/3/2016  Akshay\n",
       "3  8/3/2016  Suyash\n",
       "4  8/3/2016  Suyash"
      ]
     },
     "execution_count": 10,
     "metadata": {},
     "output_type": "execute_result"
    }
   ],
   "source": [
    "df = pd.DataFrame(\n",
    "    {'Date': dateStrings,\n",
    "     'Sender': names,\n",
    "    })\n",
    "df.head()"
   ]
  },
  {
   "cell_type": "code",
   "execution_count": 78,
   "metadata": {
    "collapsed": false
   },
   "outputs": [],
   "source": [
    "# TODO:\n",
    "# Groupby to get number of messages per date\n",
    "# Histogram"
   ]
  }
 ],
 "metadata": {
  "kernelspec": {
   "display_name": "Python [Root]",
   "language": "python",
   "name": "Python [Root]"
  },
  "language_info": {
   "codemirror_mode": {
    "name": "ipython",
    "version": 2
   },
   "file_extension": ".py",
   "mimetype": "text/x-python",
   "name": "python",
   "nbconvert_exporter": "python",
   "pygments_lexer": "ipython2",
   "version": "2.7.12"
  }
 },
 "nbformat": 4,
 "nbformat_minor": 0
}
